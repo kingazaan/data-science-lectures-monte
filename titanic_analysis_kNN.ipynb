{
 "metadata": {
  "language_info": {
   "codemirror_mode": {
    "name": "ipython",
    "version": 3
   },
   "file_extension": ".py",
   "mimetype": "text/x-python",
   "name": "python",
   "nbconvert_exporter": "python",
   "pygments_lexer": "ipython3",
   "version": "3.9.1"
  },
  "orig_nbformat": 2,
  "kernelspec": {
   "name": "python391jvsc74a57bd026aa04a1a771f7418bedeee3bb3ee9570ce7d21a22481c7cad1b0214584335a2",
   "display_name": "Python 3.9.1 64-bit ('virtual': conda)"
  }
 },
 "nbformat": 4,
 "nbformat_minor": 2,
 "cells": [
  {
   "source": [
    "## K-nearest neighbor (kNN) is algorithm that clusters inputs to outputs (aka gets the closest values to what is being predicted from the training data)  \n",
    "## What it does is gets the k closest values to it\n",
    "    for classification, the majority rules (aka if 3 ar orange and 2 are brown, output = orange)\n",
    "    for prediction, the mean is taken as output"
   ],
   "cell_type": "markdown",
   "metadata": {}
  },
  {
   "cell_type": "code",
   "execution_count": 18,
   "metadata": {},
   "outputs": [],
   "source": [
    "import os\n",
    "import pandas as pd\n",
    "from sklearn import neighbors\n",
    "from sklearn.metrics import classification_report, confusion_matrix, accuracy_score"
   ]
  },
  {
   "cell_type": "code",
   "execution_count": 19,
   "metadata": {},
   "outputs": [],
   "source": [
    "os.chdir(\"C:/Users/ab/Documents/GitHub/data-science-lectures-monte\")"
   ]
  },
  {
   "cell_type": "code",
   "execution_count": 20,
   "metadata": {},
   "outputs": [],
   "source": [
    "df = pd.read_csv(\"data/titanic_train.csv\")"
   ]
  },
  {
   "cell_type": "code",
   "execution_count": 21,
   "metadata": {},
   "outputs": [
    {
     "output_type": "stream",
     "name": "stdout",
     "text": [
      "   passenger_id  pclass                                               name  \\\n0          1216       3                                 Smyth, Miss. Julia   \n1           699       3                                    Cacic, Mr. Luka   \n2          1267       3  Van Impe, Mrs. Jean Baptiste (Rosalie Paula Go...   \n3           449       2              Hocking, Mrs. Elizabeth (Eliza Needs)   \n4           576       2                                    Veal, Mr. James   \n\n      sex   age  sibsp  parch  ticket     fare cabin embarked boat  body  \\\n0  female   NaN      0      0  335432   7.7333   NaN        Q   13   NaN   \n1    male  38.0      0      0  315089   8.6625   NaN        S  NaN   NaN   \n2  female  30.0      1      1  345773  24.1500   NaN        S  NaN   NaN   \n3  female  54.0      1      3   29105  23.0000   NaN        S    4   NaN   \n4    male  40.0      0      0   28221  13.0000   NaN        S  NaN   NaN   \n\n                  home.dest  survived  \n0                       NaN         1  \n1                   Croatia         0  \n2                       NaN         0  \n3      Cornwall / Akron, OH         1  \n4  Barre, Co Washington, VT         0  \n"
     ]
    }
   ],
   "source": [
    "print(df.head())"
   ]
  },
  {
   "cell_type": "code",
   "execution_count": 22,
   "metadata": {},
   "outputs": [],
   "source": [
    "# will use columns sec, age, pclass, and sibsp\n",
    "\n",
    "columns = [\"sex\", \"age\", \"pclass\", \"sibsp\"]\n",
    "# columns = [\"age\"]\n",
    "\n",
    "# need to clean the data a bit, make sex columns binary\n",
    "df.loc[df[\"sex\"]==\"male\", \"sex\"] = 0\n",
    "df.loc[df[\"sex\"]==\"female\", \"sex\"] = 1\n",
    "\n",
    "df[\"age\"] = df[\"age\"].fillna(df[\"age\"].median())"
   ]
  },
  {
   "cell_type": "code",
   "execution_count": 23,
   "metadata": {},
   "outputs": [],
   "source": [
    "x = df[columns]\n",
    "y = df[\"survived\"]"
   ]
  },
  {
   "cell_type": "code",
   "execution_count": 24,
   "metadata": {},
   "outputs": [
    {
     "output_type": "stream",
     "name": "stdout",
     "text": [
      "0.6741176470588235\n"
     ]
    }
   ],
   "source": [
    "# create the kNN algorithm and fit our data into it\n",
    "\n",
    "k = 15\n",
    "\n",
    "clf = neighbors.KNeighborsClassifier(k)\n",
    "clf.fit(x, y)\n",
    "\n",
    "print(clf.score(x, y))"
   ]
  },
  {
   "cell_type": "code",
   "execution_count": 25,
   "metadata": {},
   "outputs": [
    {
     "output_type": "stream",
     "name": "stdout",
     "text": [
      "[[483  54]\n [223  90]]\n"
     ]
    }
   ],
   "source": [
    "# predict training values against actual y, and get FPR and FNR\n",
    "\n",
    "y_pred = clf.predict(x)\n",
    "print(confusion_matrix(y, y_pred))"
   ]
  },
  {
   "cell_type": "code",
   "execution_count": 26,
   "metadata": {},
   "outputs": [],
   "source": [
    "test = pd.read_csv(\"data/titanic_test.csv\")\n",
    "\n",
    "test.loc[test[\"sex\"]==\"male\", \"sex\"] = 0\n",
    "test.loc[test[\"sex\"]==\"female\", \"sex\"] = 1\n",
    "\n",
    "test[\"age\"] = test[\"age\"].fillna(test[\"age\"].median())"
   ]
  },
  {
   "cell_type": "code",
   "execution_count": 27,
   "metadata": {},
   "outputs": [],
   "source": [
    "x_test = test[columns]"
   ]
  },
  {
   "cell_type": "code",
   "execution_count": 28,
   "metadata": {},
   "outputs": [
    {
     "output_type": "stream",
     "name": "stdout",
     "text": [
      "[0 0 1 0 0 1 0 1 1 0 1 0 0 0 0 0 1 0 0 0 1 0 0 0 0 0 1 0 0 0 0 0 0 0 0 0 0\n 1 0 0 0 0 0 0 0 1 0 0 0 1 0 0 1 0 0 1 0 1 0 0 1 0 0 0 0 1 0 0 0 0 0 1 0 0\n 0 0 1 0 0 0 0 0 0 1 0 0 0 0 0 1 1 0 0 0 0 0 0 1 0 0 0 0 0 1 0 0 0 0 0 0 1\n 1 0 0 0 1 0 0 0 0 0 0 0 0 0 0 0 0 0 0 0 0 0 0 0 0 0 0 0 0 0 0 1 0 1 1 1 0\n 0 0 0 0 1 1 0 0 0 0 0 0 0 0 0 0 0 0 0 0 1 1 0 0 0 1 0 0 0 0 0 1 0 0 0 0 1\n 1 0 0 0 0 0 0 0 0 0 0 0 0 0 0 0 0 0 0 0 0 0 0 0 1 0 0 0 0 0 0 0 0 0 0 0 0\n 1 0 0 0 0 0 0 0 0 0 0 0 0 1 0 0 0 0 0 0 1 0 0 0 0 1 0 0 0 0 0 1 0 0 0 0 0\n 0 1 0 0 0 0 0 0 0 0 0 0 0 0 0 1 0 0 0 0 0 0 0 0 0 1 0 1 0 0 0 0 1 0 0 0 0\n 0 1 0 0 0 0 0 0 0 1 0 0 1 0 0 0 0 1 0 0 0 0 0 0 0 0 1 0 0 0 0 0 0 0 0 0 1\n 0 0 0 1 0 0 0 0 0 1 0 0 0 0 0 0 0 0 0 0 0 0 0 0 0 0 1 0 0 0 0 0 0 0 0 0 0\n 0 0 0 0 0 0 1 0 0 0 0 0 1 0 0 0 0 0 1 0 0 0 0 0 1 0 0 0 0 0 0 0 0 0 0 0 1\n 0 0 0 0 0 1 1 1 0 0 0 0 0 0 0 0 0 0 0 0 1 0 0 0 0 0 0 0 0 1 0 0 0 0 0 0 0\n 0 1 0 0 0 0 0 0 0 0 0 0 0 0 0]\n"
     ]
    }
   ],
   "source": [
    "pred = clf.predict(x_test)\n",
    "print(pred)"
   ]
  },
  {
   "cell_type": "code",
   "execution_count": 29,
   "metadata": {},
   "outputs": [],
   "source": [
    "dataset = pd.DataFrame(list(zip(test[\"passenger_id\"].to_list(), pred.tolist())), columns=[\"passenger_id\", \"survived\"])"
   ]
  },
  {
   "cell_type": "code",
   "execution_count": 30,
   "metadata": {},
   "outputs": [
    {
     "output_type": "stream",
     "name": "stdout",
     "text": [
      "   passenger_id  survived\n0           295         0\n1          1150         0\n2            89         1\n3          1063         0\n4          1020         0\n"
     ]
    }
   ],
   "source": [
    "print(dataset.head())"
   ]
  },
  {
   "cell_type": "code",
   "execution_count": 31,
   "metadata": {},
   "outputs": [],
   "source": [
    "os.chdir(\"C:/Users/ab/Documents/GitHub/data-science-lectures-monte/submissions\")\n",
    "dataset.to_csv(\"submission_kNN.csv\", index=False)"
   ]
  },
  {
   "source": [
    "## The accuracy ends up being a 65%, which is low probably because we didnt choose the right variables  \n",
    "## could also be the number of decision trees created"
   ],
   "cell_type": "markdown",
   "metadata": {}
  }
 ]
}