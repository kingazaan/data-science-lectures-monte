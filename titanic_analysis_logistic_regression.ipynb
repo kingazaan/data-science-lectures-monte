{
 "metadata": {
  "language_info": {
   "codemirror_mode": {
    "name": "ipython",
    "version": 3
   },
   "file_extension": ".py",
   "mimetype": "text/x-python",
   "name": "python",
   "nbconvert_exporter": "python",
   "pygments_lexer": "ipython3",
   "version": "3.9.1"
  },
  "orig_nbformat": 2,
  "kernelspec": {
   "name": "python391jvsc74a57bd026aa04a1a771f7418bedeee3bb3ee9570ce7d21a22481c7cad1b0214584335a2",
   "display_name": "Python 3.9.1 64-bit ('virtual': conda)"
  }
 },
 "nbformat": 4,
 "nbformat_minor": 2,
 "cells": [
  {
   "source": [
    "### The goal of machine learning in this scenario is to test our model (made with the train.csv) to run on the test.csv\n",
    "### The test.cvs does NOT HAVE the \"survived columns\", therefor eallowing us to PREDICT the dependent variable in a new dataset\n",
    "### This is done so that we can see how our model works with fresh data"
   ],
   "cell_type": "markdown",
   "metadata": {}
  },
  {
   "cell_type": "code",
   "execution_count": 14,
   "metadata": {},
   "outputs": [],
   "source": [
    "import os\n",
    "import pandas as pd\n",
    "import numpy as np\n",
    "import matplotlib.pyplot as plt\n",
    "import seaborn as sn\n",
    "from sklearn.linear_model import LogisticRegression"
   ]
  },
  {
   "cell_type": "code",
   "execution_count": 2,
   "metadata": {},
   "outputs": [],
   "source": [
    "os.chdir(\"C:/Users/ab/Documents/GitHub/data-science-lectures-monte/data\")"
   ]
  },
  {
   "cell_type": "code",
   "execution_count": 3,
   "metadata": {},
   "outputs": [],
   "source": [
    "train_df = pd.read_csv(\"titanic_train.csv\")\n",
    "test_df = pd.read_csv(\"titanic_test.csv\")"
   ]
  },
  {
   "cell_type": "code",
   "execution_count": 34,
   "metadata": {},
   "outputs": [
    {
     "output_type": "execute_result",
     "data": {
      "text/plain": [
       "       passenger_id     pclass         age       sibsp       parch  \\\n",
       "count    850.000000  850.00000  850.000000  850.000000  850.000000   \n",
       "mean     662.816471    2.32000   29.530637    0.522353    0.382353   \n",
       "std      380.751936    0.83853   13.584703    1.112132    0.879511   \n",
       "min        1.000000    1.00000    0.166700    0.000000    0.000000   \n",
       "25%      332.250000    2.00000   21.000000    0.000000    0.000000   \n",
       "50%      676.500000    3.00000   28.000000    0.000000    0.000000   \n",
       "75%      992.250000    3.00000   36.000000    1.000000    0.000000   \n",
       "max     1307.000000    3.00000   80.000000    8.000000    9.000000   \n",
       "\n",
       "             fare        body    survived  \n",
       "count  849.000000   73.000000  850.000000  \n",
       "mean    34.012701  165.821918    0.368235  \n",
       "std     53.705779   99.068487    0.482610  \n",
       "min      0.000000    4.000000    0.000000  \n",
       "25%      7.895800   75.000000    0.000000  \n",
       "50%     14.108300  166.000000    0.000000  \n",
       "75%     31.000000  260.000000    1.000000  \n",
       "max    512.329200  328.000000    1.000000  "
      ],
      "text/html": "<div>\n<style scoped>\n    .dataframe tbody tr th:only-of-type {\n        vertical-align: middle;\n    }\n\n    .dataframe tbody tr th {\n        vertical-align: top;\n    }\n\n    .dataframe thead th {\n        text-align: right;\n    }\n</style>\n<table border=\"1\" class=\"dataframe\">\n  <thead>\n    <tr style=\"text-align: right;\">\n      <th></th>\n      <th>passenger_id</th>\n      <th>pclass</th>\n      <th>age</th>\n      <th>sibsp</th>\n      <th>parch</th>\n      <th>fare</th>\n      <th>body</th>\n      <th>survived</th>\n    </tr>\n  </thead>\n  <tbody>\n    <tr>\n      <th>count</th>\n      <td>850.000000</td>\n      <td>850.00000</td>\n      <td>850.000000</td>\n      <td>850.000000</td>\n      <td>850.000000</td>\n      <td>849.000000</td>\n      <td>73.000000</td>\n      <td>850.000000</td>\n    </tr>\n    <tr>\n      <th>mean</th>\n      <td>662.816471</td>\n      <td>2.32000</td>\n      <td>29.530637</td>\n      <td>0.522353</td>\n      <td>0.382353</td>\n      <td>34.012701</td>\n      <td>165.821918</td>\n      <td>0.368235</td>\n    </tr>\n    <tr>\n      <th>std</th>\n      <td>380.751936</td>\n      <td>0.83853</td>\n      <td>13.584703</td>\n      <td>1.112132</td>\n      <td>0.879511</td>\n      <td>53.705779</td>\n      <td>99.068487</td>\n      <td>0.482610</td>\n    </tr>\n    <tr>\n      <th>min</th>\n      <td>1.000000</td>\n      <td>1.00000</td>\n      <td>0.166700</td>\n      <td>0.000000</td>\n      <td>0.000000</td>\n      <td>0.000000</td>\n      <td>4.000000</td>\n      <td>0.000000</td>\n    </tr>\n    <tr>\n      <th>25%</th>\n      <td>332.250000</td>\n      <td>2.00000</td>\n      <td>21.000000</td>\n      <td>0.000000</td>\n      <td>0.000000</td>\n      <td>7.895800</td>\n      <td>75.000000</td>\n      <td>0.000000</td>\n    </tr>\n    <tr>\n      <th>50%</th>\n      <td>676.500000</td>\n      <td>3.00000</td>\n      <td>28.000000</td>\n      <td>0.000000</td>\n      <td>0.000000</td>\n      <td>14.108300</td>\n      <td>166.000000</td>\n      <td>0.000000</td>\n    </tr>\n    <tr>\n      <th>75%</th>\n      <td>992.250000</td>\n      <td>3.00000</td>\n      <td>36.000000</td>\n      <td>1.000000</td>\n      <td>0.000000</td>\n      <td>31.000000</td>\n      <td>260.000000</td>\n      <td>1.000000</td>\n    </tr>\n    <tr>\n      <th>max</th>\n      <td>1307.000000</td>\n      <td>3.00000</td>\n      <td>80.000000</td>\n      <td>8.000000</td>\n      <td>9.000000</td>\n      <td>512.329200</td>\n      <td>328.000000</td>\n      <td>1.000000</td>\n    </tr>\n  </tbody>\n</table>\n</div>"
     },
     "metadata": {},
     "execution_count": 34
    }
   ],
   "source": [
    "train_df.describe()"
   ]
  },
  {
   "cell_type": "code",
   "execution_count": 4,
   "metadata": {},
   "outputs": [],
   "source": [
    "columns = [\"sex\", \"age\", \"pclass\", \"sibsp\"]"
   ]
  },
  {
   "source": [
    "# will use columns sec, age, pclass, and sibsp\n",
    "# need to clean the data a bit\n",
    "\n",
    "train_df[\"age\"] = train_df[\"age\"].fillna(train_df[\"age\"].median())\n",
    "train_df.loc[train_df[\"sex\"]==\"male\", \"sex\"] = 0\n",
    "train_df.loc[train_df[\"sex\"]==\"female\", \"sex\"] = 1\n",
    "print(train_df[\"age\"].unique(), train_df[\"sex\"].unique())"
   ],
   "cell_type": "code",
   "metadata": {},
   "execution_count": null,
   "outputs": []
  },
  {
   "source": [
    "## Logistic Regression"
   ],
   "cell_type": "markdown",
   "metadata": {}
  },
  {
   "source": [
    "# set the method we will use\n",
    "\n",
    "reg = LogisticRegression()\n",
    "x_train = train_df[columns]\n",
    "y_train = train_df[\"survived\"]\n",
    "reg.fit(x_train, y_train)"
   ],
   "cell_type": "code",
   "metadata": {},
   "execution_count": 18,
   "outputs": [
    {
     "output_type": "execute_result",
     "data": {
      "text/plain": [
       "LogisticRegression()"
      ]
     },
     "metadata": {},
     "execution_count": 18
    }
   ]
  },
  {
   "cell_type": "code",
   "execution_count": 19,
   "metadata": {},
   "outputs": [
    {
     "output_type": "stream",
     "name": "stdout",
     "text": [
      "0.7929411764705883\n"
     ]
    }
   ],
   "source": [
    "print(reg.score(x_train, y_train))\n",
    "\n",
    "# model is giving us 0.79, pretty good model"
   ]
  },
  {
   "source": [
    "# test does not include the \"survived\" column\n",
    "\n",
    "test_df.head()"
   ],
   "cell_type": "code",
   "metadata": {},
   "execution_count": null,
   "outputs": []
  },
  {
   "cell_type": "code",
   "execution_count": 22,
   "metadata": {},
   "outputs": [
    {
     "output_type": "stream",
     "name": "stdout",
     "text": [
      "[17.     29.     31.     41.     21.      0.3333 37.     15.     14.\n 47.     44.     60.     43.     61.      6.     36.     24.      4.\n 42.     71.     26.     45.     32.     23.     19.     30.     39.\n 49.     65.     50.     51.     22.     52.     66.     34.      1.\n 56.     57.     46.     27.     54.      0.75    5.     33.      9.\n 28.     53.     30.5    18.5    40.     36.5    35.     25.      2.\n 70.5    16.     64.     62.     38.     20.     12.     48.     32.5\n 20.5    11.5    40.5    24.5    18.     63.      3.      8.     23.5\n  0.9167 59.     58.     10.    ] [0 1]\n"
     ]
    }
   ],
   "source": [
    "# transform the test_df the same way as the train_df\n",
    "\n",
    "test_df[\"age\"] = test_df[\"age\"].fillna(test_df[\"age\"].median())\n",
    "test_df.loc[test_df[\"sex\"]==\"male\", \"sex\"] = 0\n",
    "test_df.loc[test_df[\"sex\"]==\"female\", \"sex\"] = 1\n",
    "print(test_df[\"age\"].unique(), test_df[\"sex\"].unique())"
   ]
  },
  {
   "cell_type": "code",
   "execution_count": 26,
   "metadata": {},
   "outputs": [],
   "source": [
    "x_test = test_df[columns]\n",
    "\n",
    "prediction = reg.predict(x_test)"
   ]
  },
  {
   "cell_type": "code",
   "execution_count": 27,
   "metadata": {},
   "outputs": [
    {
     "output_type": "stream",
     "name": "stdout",
     "text": [
      "[1 0 0 0 0 0 0 1 0 0 1 0 0 0 0 0 1 0 0 0 0 0 0 0 0 1 0 1 1 1 0 0 0 0 0 0 1\n 0 0 0 0 0 0 0 0 0 0 0 0 1 0 0 0 0 0 1 0 1 1 0 0 0 0 0 0 1 1 0 1 0 0 0 0 1\n 1 1 1 1 1 0 0 0 0 0 0 0 0 0 0 0 0 0 0 0 1 1 0 1 1 0 1 0 1 1 0 1 0 1 1 0 0\n 1 0 0 0 0 1 0 0 0 1 0 1 0 0 0 0 1 0 1 0 0 0 1 1 0 0 0 0 1 0 0 1 0 1 1 1 0\n 1 1 0 0 0 1 0 1 1 1 0 1 0 1 1 1 1 0 0 0 0 1 0 0 0 0 0 0 0 0 0 0 0 0 0 0 1\n 0 0 0 0 1 1 0 1 0 0 0 0 1 1 0 1 0 0 0 0 0 0 0 1 0 0 1 1 1 1 1 0 0 0 0 1 1\n 0 0 1 1 0 0 0 0 1 0 0 0 0 0 0 0 1 1 0 0 0 0 0 0 1 0 0 1 0 0 0 1 0 1 0 0 1\n 1 0 1 0 0 0 1 1 0 1 0 0 1 0 0 0 0 1 0 1 0 0 0 1 0 0 0 1 0 0 1 1 0 1 0 0 1\n 0 0 0 0 0 1 1 0 1 1 0 0 1 0 1 0 1 0 0 1 1 1 0 1 1 0 1 0 0 0 0 1 0 0 0 1 0\n 0 1 0 1 1 0 0 0 0 1 0 1 0 1 1 1 0 0 1 0 1 0 0 1 0 1 0 1 1 0 1 0 0 1 0 0 0\n 1 0 0 0 0 0 0 0 0 1 1 0 1 0 0 0 0 1 0 0 1 1 0 0 1 1 0 0 0 0 0 0 0 0 0 0 0\n 1 0 0 0 0 0 1 1 1 0 0 1 0 0 0 0 1 0 1 0 0 1 1 1 1 0 0 1 0 1 0 1 1 0 0 1 1\n 1 1 0 1 0 1 0 0 0 1 0 0 1 0 1]\n"
     ]
    }
   ],
   "source": [
    "print(prediction)\n",
    "\n",
    "# this data is showing that the first person survived, and 2nd-7th died"
   ]
  },
  {
   "source": [
    "dataset = pd.DataFrame(list(zip(test_df[\"passenger_id\"].to_list(), prediction.to_list())), columns=[\"passenger_id\", \"survived\"])"
   ],
   "cell_type": "code",
   "metadata": {},
   "execution_count": null,
   "outputs": []
  },
  {
   "cell_type": "code",
   "execution_count": 42,
   "metadata": {},
   "outputs": [
    {
     "output_type": "execute_result",
     "data": {
      "text/plain": [
       "   passenger_id  survived\n",
       "0           295         1\n",
       "1          1150         0\n",
       "2            89         0\n",
       "3          1063         0\n",
       "4          1020         0"
      ],
      "text/html": "<div>\n<style scoped>\n    .dataframe tbody tr th:only-of-type {\n        vertical-align: middle;\n    }\n\n    .dataframe tbody tr th {\n        vertical-align: top;\n    }\n\n    .dataframe thead th {\n        text-align: right;\n    }\n</style>\n<table border=\"1\" class=\"dataframe\">\n  <thead>\n    <tr style=\"text-align: right;\">\n      <th></th>\n      <th>passenger_id</th>\n      <th>survived</th>\n    </tr>\n  </thead>\n  <tbody>\n    <tr>\n      <th>0</th>\n      <td>295</td>\n      <td>1</td>\n    </tr>\n    <tr>\n      <th>1</th>\n      <td>1150</td>\n      <td>0</td>\n    </tr>\n    <tr>\n      <th>2</th>\n      <td>89</td>\n      <td>0</td>\n    </tr>\n    <tr>\n      <th>3</th>\n      <td>1063</td>\n      <td>0</td>\n    </tr>\n    <tr>\n      <th>4</th>\n      <td>1020</td>\n      <td>0</td>\n    </tr>\n  </tbody>\n</table>\n</div>"
     },
     "metadata": {},
     "execution_count": 42
    }
   ],
   "source": [
    "dataset.head()"
   ]
  },
  {
   "cell_type": "code",
   "execution_count": 43,
   "metadata": {},
   "outputs": [],
   "source": [
    "# create dataset from our prediction spreadsheet\n",
    "\n",
    "os.chdir(\"C:/Users/ab/Documents/GitHub/data-science-lectures-monte/submissions\")\n",
    "dataset.to_csv(\"submission_logistic_regression.csv\", index=False)"
   ]
  }
 ]
}